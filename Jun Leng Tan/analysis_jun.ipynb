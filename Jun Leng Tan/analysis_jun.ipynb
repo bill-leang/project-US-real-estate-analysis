{
 "cells": [
  {
   "cell_type": "code",
   "execution_count": 1,
   "id": "2f487e74",
   "metadata": {},
   "outputs": [
    {
     "data": {
      "application/javascript": [
       "(function(root) {\n",
       "  function now() {\n",
       "    return new Date();\n",
       "  }\n",
       "\n",
       "  var force = true;\n",
       "  var py_version = '3.2.1'.replace('rc', '-rc.').replace('.dev', '-dev.');\n",
       "  var is_dev = py_version.indexOf(\"+\") !== -1 || py_version.indexOf(\"-\") !== -1;\n",
       "  var reloading = false;\n",
       "  var Bokeh = root.Bokeh;\n",
       "  var bokeh_loaded = Bokeh != null && (Bokeh.version === py_version || (Bokeh.versions !== undefined && Bokeh.versions.has(py_version)));\n",
       "\n",
       "  if (typeof (root._bokeh_timeout) === \"undefined\" || force) {\n",
       "    root._bokeh_timeout = Date.now() + 5000;\n",
       "    root._bokeh_failed_load = false;\n",
       "  }\n",
       "\n",
       "  function run_callbacks() {\n",
       "    try {\n",
       "      root._bokeh_onload_callbacks.forEach(function(callback) {\n",
       "        if (callback != null)\n",
       "          callback();\n",
       "      });\n",
       "    } finally {\n",
       "      delete root._bokeh_onload_callbacks;\n",
       "    }\n",
       "    console.debug(\"Bokeh: all callbacks have finished\");\n",
       "  }\n",
       "\n",
       "  function load_libs(css_urls, js_urls, js_modules, js_exports, callback) {\n",
       "    if (css_urls == null) css_urls = [];\n",
       "    if (js_urls == null) js_urls = [];\n",
       "    if (js_modules == null) js_modules = [];\n",
       "    if (js_exports == null) js_exports = {};\n",
       "\n",
       "    root._bokeh_onload_callbacks.push(callback);\n",
       "\n",
       "    if (root._bokeh_is_loading > 0) {\n",
       "      console.debug(\"Bokeh: BokehJS is being loaded, scheduling callback at\", now());\n",
       "      return null;\n",
       "    }\n",
       "    if (js_urls.length === 0 && js_modules.length === 0 && Object.keys(js_exports).length === 0) {\n",
       "      run_callbacks();\n",
       "      return null;\n",
       "    }\n",
       "    if (!reloading) {\n",
       "      console.debug(\"Bokeh: BokehJS not loaded, scheduling load and callback at\", now());\n",
       "    }\n",
       "\n",
       "    function on_load() {\n",
       "      root._bokeh_is_loading--;\n",
       "      if (root._bokeh_is_loading === 0) {\n",
       "        console.debug(\"Bokeh: all BokehJS libraries/stylesheets loaded\");\n",
       "        run_callbacks()\n",
       "      }\n",
       "    }\n",
       "    window._bokeh_on_load = on_load\n",
       "\n",
       "    function on_error() {\n",
       "      console.error(\"failed to load \" + url);\n",
       "    }\n",
       "\n",
       "    var skip = [];\n",
       "    if (window.requirejs) {\n",
       "      window.requirejs.config({'packages': {}, 'paths': {'jspanel': 'https://cdn.jsdelivr.net/npm/jspanel4@4.12.0/dist/jspanel', 'jspanel-modal': 'https://cdn.jsdelivr.net/npm/jspanel4@4.12.0/dist/extensions/modal/jspanel.modal', 'jspanel-tooltip': 'https://cdn.jsdelivr.net/npm/jspanel4@4.12.0/dist/extensions/tooltip/jspanel.tooltip', 'jspanel-hint': 'https://cdn.jsdelivr.net/npm/jspanel4@4.12.0/dist/extensions/hint/jspanel.hint', 'jspanel-layout': 'https://cdn.jsdelivr.net/npm/jspanel4@4.12.0/dist/extensions/layout/jspanel.layout', 'jspanel-contextmenu': 'https://cdn.jsdelivr.net/npm/jspanel4@4.12.0/dist/extensions/contextmenu/jspanel.contextmenu', 'jspanel-dock': 'https://cdn.jsdelivr.net/npm/jspanel4@4.12.0/dist/extensions/dock/jspanel.dock', 'gridstack': 'https://cdn.jsdelivr.net/npm/gridstack@7.2.3/dist/gridstack-all', 'notyf': 'https://cdn.jsdelivr.net/npm/notyf@3/notyf.min'}, 'shim': {'jspanel': {'exports': 'jsPanel'}, 'gridstack': {'exports': 'GridStack'}}});\n",
       "      require([\"jspanel\"], function(jsPanel) {\n",
       "\twindow.jsPanel = jsPanel\n",
       "\ton_load()\n",
       "      })\n",
       "      require([\"jspanel-modal\"], function() {\n",
       "\ton_load()\n",
       "      })\n",
       "      require([\"jspanel-tooltip\"], function() {\n",
       "\ton_load()\n",
       "      })\n",
       "      require([\"jspanel-hint\"], function() {\n",
       "\ton_load()\n",
       "      })\n",
       "      require([\"jspanel-layout\"], function() {\n",
       "\ton_load()\n",
       "      })\n",
       "      require([\"jspanel-contextmenu\"], function() {\n",
       "\ton_load()\n",
       "      })\n",
       "      require([\"jspanel-dock\"], function() {\n",
       "\ton_load()\n",
       "      })\n",
       "      require([\"gridstack\"], function(GridStack) {\n",
       "\twindow.GridStack = GridStack\n",
       "\ton_load()\n",
       "      })\n",
       "      require([\"notyf\"], function() {\n",
       "\ton_load()\n",
       "      })\n",
       "      root._bokeh_is_loading = css_urls.length + 9;\n",
       "    } else {\n",
       "      root._bokeh_is_loading = css_urls.length + js_urls.length + js_modules.length + Object.keys(js_exports).length;\n",
       "    }\n",
       "\n",
       "    var existing_stylesheets = []\n",
       "    var links = document.getElementsByTagName('link')\n",
       "    for (var i = 0; i < links.length; i++) {\n",
       "      var link = links[i]\n",
       "      if (link.href != null) {\n",
       "\texisting_stylesheets.push(link.href)\n",
       "      }\n",
       "    }\n",
       "    for (var i = 0; i < css_urls.length; i++) {\n",
       "      var url = css_urls[i];\n",
       "      if (existing_stylesheets.indexOf(url) !== -1) {\n",
       "\ton_load()\n",
       "\tcontinue;\n",
       "      }\n",
       "      const element = document.createElement(\"link\");\n",
       "      element.onload = on_load;\n",
       "      element.onerror = on_error;\n",
       "      element.rel = \"stylesheet\";\n",
       "      element.type = \"text/css\";\n",
       "      element.href = url;\n",
       "      console.debug(\"Bokeh: injecting link tag for BokehJS stylesheet: \", url);\n",
       "      document.body.appendChild(element);\n",
       "    }    if (((window['jsPanel'] !== undefined) && (!(window['jsPanel'] instanceof HTMLElement))) || window.requirejs) {\n",
       "      var urls = ['https://cdn.holoviz.org/panel/1.2.3/dist/bundled/floatpanel/jspanel4@4.12.0/dist/jspanel.js', 'https://cdn.holoviz.org/panel/1.2.3/dist/bundled/floatpanel/jspanel4@4.12.0/dist/extensions/modal/jspanel.modal.js', 'https://cdn.holoviz.org/panel/1.2.3/dist/bundled/floatpanel/jspanel4@4.12.0/dist/extensions/tooltip/jspanel.tooltip.js', 'https://cdn.holoviz.org/panel/1.2.3/dist/bundled/floatpanel/jspanel4@4.12.0/dist/extensions/hint/jspanel.hint.js', 'https://cdn.holoviz.org/panel/1.2.3/dist/bundled/floatpanel/jspanel4@4.12.0/dist/extensions/layout/jspanel.layout.js', 'https://cdn.holoviz.org/panel/1.2.3/dist/bundled/floatpanel/jspanel4@4.12.0/dist/extensions/contextmenu/jspanel.contextmenu.js', 'https://cdn.holoviz.org/panel/1.2.3/dist/bundled/floatpanel/jspanel4@4.12.0/dist/extensions/dock/jspanel.dock.js'];\n",
       "      for (var i = 0; i < urls.length; i++) {\n",
       "        skip.push(urls[i])\n",
       "      }\n",
       "    }    if (((window['GridStack'] !== undefined) && (!(window['GridStack'] instanceof HTMLElement))) || window.requirejs) {\n",
       "      var urls = ['https://cdn.holoviz.org/panel/1.2.3/dist/bundled/gridstack/gridstack@7.2.3/dist/gridstack-all.js'];\n",
       "      for (var i = 0; i < urls.length; i++) {\n",
       "        skip.push(urls[i])\n",
       "      }\n",
       "    }    if (((window['Notyf'] !== undefined) && (!(window['Notyf'] instanceof HTMLElement))) || window.requirejs) {\n",
       "      var urls = ['https://cdn.holoviz.org/panel/1.2.3/dist/bundled/notificationarea/notyf@3/notyf.min.js'];\n",
       "      for (var i = 0; i < urls.length; i++) {\n",
       "        skip.push(urls[i])\n",
       "      }\n",
       "    }    var existing_scripts = []\n",
       "    var scripts = document.getElementsByTagName('script')\n",
       "    for (var i = 0; i < scripts.length; i++) {\n",
       "      var script = scripts[i]\n",
       "      if (script.src != null) {\n",
       "\texisting_scripts.push(script.src)\n",
       "      }\n",
       "    }\n",
       "    for (var i = 0; i < js_urls.length; i++) {\n",
       "      var url = js_urls[i];\n",
       "      if (skip.indexOf(url) !== -1 || existing_scripts.indexOf(url) !== -1) {\n",
       "\tif (!window.requirejs) {\n",
       "\t  on_load();\n",
       "\t}\n",
       "\tcontinue;\n",
       "      }\n",
       "      var element = document.createElement('script');\n",
       "      element.onload = on_load;\n",
       "      element.onerror = on_error;\n",
       "      element.async = false;\n",
       "      element.src = url;\n",
       "      console.debug(\"Bokeh: injecting script tag for BokehJS library: \", url);\n",
       "      document.head.appendChild(element);\n",
       "    }\n",
       "    for (var i = 0; i < js_modules.length; i++) {\n",
       "      var url = js_modules[i];\n",
       "      if (skip.indexOf(url) !== -1 || existing_scripts.indexOf(url) !== -1) {\n",
       "\tif (!window.requirejs) {\n",
       "\t  on_load();\n",
       "\t}\n",
       "\tcontinue;\n",
       "      }\n",
       "      var element = document.createElement('script');\n",
       "      element.onload = on_load;\n",
       "      element.onerror = on_error;\n",
       "      element.async = false;\n",
       "      element.src = url;\n",
       "      element.type = \"module\";\n",
       "      console.debug(\"Bokeh: injecting script tag for BokehJS library: \", url);\n",
       "      document.head.appendChild(element);\n",
       "    }\n",
       "    for (const name in js_exports) {\n",
       "      var url = js_exports[name];\n",
       "      if (skip.indexOf(url) >= 0 || root[name] != null) {\n",
       "\tif (!window.requirejs) {\n",
       "\t  on_load();\n",
       "\t}\n",
       "\tcontinue;\n",
       "      }\n",
       "      var element = document.createElement('script');\n",
       "      element.onerror = on_error;\n",
       "      element.async = false;\n",
       "      element.type = \"module\";\n",
       "      console.debug(\"Bokeh: injecting script tag for BokehJS library: \", url);\n",
       "      element.textContent = `\n",
       "      import ${name} from \"${url}\"\n",
       "      window.${name} = ${name}\n",
       "      window._bokeh_on_load()\n",
       "      `\n",
       "      document.head.appendChild(element);\n",
       "    }\n",
       "    if (!js_urls.length && !js_modules.length) {\n",
       "      on_load()\n",
       "    }\n",
       "  };\n",
       "\n",
       "  function inject_raw_css(css) {\n",
       "    const element = document.createElement(\"style\");\n",
       "    element.appendChild(document.createTextNode(css));\n",
       "    document.body.appendChild(element);\n",
       "  }\n",
       "\n",
       "  var js_urls = [\"https://cdn.bokeh.org/bokeh/release/bokeh-3.2.1.min.js\", \"https://cdn.bokeh.org/bokeh/release/bokeh-gl-3.2.1.min.js\", \"https://cdn.bokeh.org/bokeh/release/bokeh-widgets-3.2.1.min.js\", \"https://cdn.bokeh.org/bokeh/release/bokeh-tables-3.2.1.min.js\", \"https://cdn.holoviz.org/panel/1.2.3/dist/panel.min.js\"];\n",
       "  var js_modules = [];\n",
       "  var js_exports = {};\n",
       "  var css_urls = [];\n",
       "  var inline_js = [    function(Bokeh) {\n",
       "      Bokeh.set_log_level(\"info\");\n",
       "    },\n",
       "function(Bokeh) {} // ensure no trailing comma for IE\n",
       "  ];\n",
       "\n",
       "  function run_inline_js() {\n",
       "    if ((root.Bokeh !== undefined) || (force === true)) {\n",
       "      for (var i = 0; i < inline_js.length; i++) {\n",
       "        inline_js[i].call(root, root.Bokeh);\n",
       "      }\n",
       "      // Cache old bokeh versions\n",
       "      if (Bokeh != undefined && !reloading) {\n",
       "\tvar NewBokeh = root.Bokeh;\n",
       "\tif (Bokeh.versions === undefined) {\n",
       "\t  Bokeh.versions = new Map();\n",
       "\t}\n",
       "\tif (NewBokeh.version !== Bokeh.version) {\n",
       "\t  Bokeh.versions.set(NewBokeh.version, NewBokeh)\n",
       "\t}\n",
       "\troot.Bokeh = Bokeh;\n",
       "      }} else if (Date.now() < root._bokeh_timeout) {\n",
       "      setTimeout(run_inline_js, 100);\n",
       "    } else if (!root._bokeh_failed_load) {\n",
       "      console.log(\"Bokeh: BokehJS failed to load within specified timeout.\");\n",
       "      root._bokeh_failed_load = true;\n",
       "    }\n",
       "    root._bokeh_is_initializing = false\n",
       "  }\n",
       "\n",
       "  function load_or_wait() {\n",
       "    // Implement a backoff loop that tries to ensure we do not load multiple\n",
       "    // versions of Bokeh and its dependencies at the same time.\n",
       "    // In recent versions we use the root._bokeh_is_initializing flag\n",
       "    // to determine whether there is an ongoing attempt to initialize\n",
       "    // bokeh, however for backward compatibility we also try to ensure\n",
       "    // that we do not start loading a newer (Panel>=1.0 and Bokeh>3) version\n",
       "    // before older versions are fully initialized.\n",
       "    if (root._bokeh_is_initializing && Date.now() > root._bokeh_timeout) {\n",
       "      root._bokeh_is_initializing = false;\n",
       "      root._bokeh_onload_callbacks = undefined;\n",
       "      console.log(\"Bokeh: BokehJS was loaded multiple times but one version failed to initialize.\");\n",
       "      load_or_wait();\n",
       "    } else if (root._bokeh_is_initializing || (typeof root._bokeh_is_initializing === \"undefined\" && root._bokeh_onload_callbacks !== undefined)) {\n",
       "      setTimeout(load_or_wait, 100);\n",
       "    } else {\n",
       "      Bokeh = root.Bokeh;\n",
       "      bokeh_loaded = Bokeh != null && (Bokeh.version === py_version || (Bokeh.versions !== undefined && Bokeh.versions.has(py_version)));\n",
       "      root._bokeh_is_initializing = true\n",
       "      root._bokeh_onload_callbacks = []\n",
       "      if (!reloading && (!bokeh_loaded || is_dev)) {\n",
       "\troot.Bokeh = undefined;\n",
       "      }\n",
       "      load_libs(css_urls, js_urls, js_modules, js_exports, function() {\n",
       "\tconsole.debug(\"Bokeh: BokehJS plotting callback run at\", now());\n",
       "\trun_inline_js();\n",
       "      });\n",
       "    }\n",
       "  }\n",
       "  // Give older versions of the autoload script a head-start to ensure\n",
       "  // they initialize before we start loading newer version.\n",
       "  setTimeout(load_or_wait, 100)\n",
       "}(window));"
      ],
      "application/vnd.holoviews_load.v0+json": "(function(root) {\n  function now() {\n    return new Date();\n  }\n\n  var force = true;\n  var py_version = '3.2.1'.replace('rc', '-rc.').replace('.dev', '-dev.');\n  var is_dev = py_version.indexOf(\"+\") !== -1 || py_version.indexOf(\"-\") !== -1;\n  var reloading = false;\n  var Bokeh = root.Bokeh;\n  var bokeh_loaded = Bokeh != null && (Bokeh.version === py_version || (Bokeh.versions !== undefined && Bokeh.versions.has(py_version)));\n\n  if (typeof (root._bokeh_timeout) === \"undefined\" || force) {\n    root._bokeh_timeout = Date.now() + 5000;\n    root._bokeh_failed_load = false;\n  }\n\n  function run_callbacks() {\n    try {\n      root._bokeh_onload_callbacks.forEach(function(callback) {\n        if (callback != null)\n          callback();\n      });\n    } finally {\n      delete root._bokeh_onload_callbacks;\n    }\n    console.debug(\"Bokeh: all callbacks have finished\");\n  }\n\n  function load_libs(css_urls, js_urls, js_modules, js_exports, callback) {\n    if (css_urls == null) css_urls = [];\n    if (js_urls == null) js_urls = [];\n    if (js_modules == null) js_modules = [];\n    if (js_exports == null) js_exports = {};\n\n    root._bokeh_onload_callbacks.push(callback);\n\n    if (root._bokeh_is_loading > 0) {\n      console.debug(\"Bokeh: BokehJS is being loaded, scheduling callback at\", now());\n      return null;\n    }\n    if (js_urls.length === 0 && js_modules.length === 0 && Object.keys(js_exports).length === 0) {\n      run_callbacks();\n      return null;\n    }\n    if (!reloading) {\n      console.debug(\"Bokeh: BokehJS not loaded, scheduling load and callback at\", now());\n    }\n\n    function on_load() {\n      root._bokeh_is_loading--;\n      if (root._bokeh_is_loading === 0) {\n        console.debug(\"Bokeh: all BokehJS libraries/stylesheets loaded\");\n        run_callbacks()\n      }\n    }\n    window._bokeh_on_load = on_load\n\n    function on_error() {\n      console.error(\"failed to load \" + url);\n    }\n\n    var skip = [];\n    if (window.requirejs) {\n      window.requirejs.config({'packages': {}, 'paths': {'jspanel': 'https://cdn.jsdelivr.net/npm/jspanel4@4.12.0/dist/jspanel', 'jspanel-modal': 'https://cdn.jsdelivr.net/npm/jspanel4@4.12.0/dist/extensions/modal/jspanel.modal', 'jspanel-tooltip': 'https://cdn.jsdelivr.net/npm/jspanel4@4.12.0/dist/extensions/tooltip/jspanel.tooltip', 'jspanel-hint': 'https://cdn.jsdelivr.net/npm/jspanel4@4.12.0/dist/extensions/hint/jspanel.hint', 'jspanel-layout': 'https://cdn.jsdelivr.net/npm/jspanel4@4.12.0/dist/extensions/layout/jspanel.layout', 'jspanel-contextmenu': 'https://cdn.jsdelivr.net/npm/jspanel4@4.12.0/dist/extensions/contextmenu/jspanel.contextmenu', 'jspanel-dock': 'https://cdn.jsdelivr.net/npm/jspanel4@4.12.0/dist/extensions/dock/jspanel.dock', 'gridstack': 'https://cdn.jsdelivr.net/npm/gridstack@7.2.3/dist/gridstack-all', 'notyf': 'https://cdn.jsdelivr.net/npm/notyf@3/notyf.min'}, 'shim': {'jspanel': {'exports': 'jsPanel'}, 'gridstack': {'exports': 'GridStack'}}});\n      require([\"jspanel\"], function(jsPanel) {\n\twindow.jsPanel = jsPanel\n\ton_load()\n      })\n      require([\"jspanel-modal\"], function() {\n\ton_load()\n      })\n      require([\"jspanel-tooltip\"], function() {\n\ton_load()\n      })\n      require([\"jspanel-hint\"], function() {\n\ton_load()\n      })\n      require([\"jspanel-layout\"], function() {\n\ton_load()\n      })\n      require([\"jspanel-contextmenu\"], function() {\n\ton_load()\n      })\n      require([\"jspanel-dock\"], function() {\n\ton_load()\n      })\n      require([\"gridstack\"], function(GridStack) {\n\twindow.GridStack = GridStack\n\ton_load()\n      })\n      require([\"notyf\"], function() {\n\ton_load()\n      })\n      root._bokeh_is_loading = css_urls.length + 9;\n    } else {\n      root._bokeh_is_loading = css_urls.length + js_urls.length + js_modules.length + Object.keys(js_exports).length;\n    }\n\n    var existing_stylesheets = []\n    var links = document.getElementsByTagName('link')\n    for (var i = 0; i < links.length; i++) {\n      var link = links[i]\n      if (link.href != null) {\n\texisting_stylesheets.push(link.href)\n      }\n    }\n    for (var i = 0; i < css_urls.length; i++) {\n      var url = css_urls[i];\n      if (existing_stylesheets.indexOf(url) !== -1) {\n\ton_load()\n\tcontinue;\n      }\n      const element = document.createElement(\"link\");\n      element.onload = on_load;\n      element.onerror = on_error;\n      element.rel = \"stylesheet\";\n      element.type = \"text/css\";\n      element.href = url;\n      console.debug(\"Bokeh: injecting link tag for BokehJS stylesheet: \", url);\n      document.body.appendChild(element);\n    }    if (((window['jsPanel'] !== undefined) && (!(window['jsPanel'] instanceof HTMLElement))) || window.requirejs) {\n      var urls = ['https://cdn.holoviz.org/panel/1.2.3/dist/bundled/floatpanel/jspanel4@4.12.0/dist/jspanel.js', 'https://cdn.holoviz.org/panel/1.2.3/dist/bundled/floatpanel/jspanel4@4.12.0/dist/extensions/modal/jspanel.modal.js', 'https://cdn.holoviz.org/panel/1.2.3/dist/bundled/floatpanel/jspanel4@4.12.0/dist/extensions/tooltip/jspanel.tooltip.js', 'https://cdn.holoviz.org/panel/1.2.3/dist/bundled/floatpanel/jspanel4@4.12.0/dist/extensions/hint/jspanel.hint.js', 'https://cdn.holoviz.org/panel/1.2.3/dist/bundled/floatpanel/jspanel4@4.12.0/dist/extensions/layout/jspanel.layout.js', 'https://cdn.holoviz.org/panel/1.2.3/dist/bundled/floatpanel/jspanel4@4.12.0/dist/extensions/contextmenu/jspanel.contextmenu.js', 'https://cdn.holoviz.org/panel/1.2.3/dist/bundled/floatpanel/jspanel4@4.12.0/dist/extensions/dock/jspanel.dock.js'];\n      for (var i = 0; i < urls.length; i++) {\n        skip.push(urls[i])\n      }\n    }    if (((window['GridStack'] !== undefined) && (!(window['GridStack'] instanceof HTMLElement))) || window.requirejs) {\n      var urls = ['https://cdn.holoviz.org/panel/1.2.3/dist/bundled/gridstack/gridstack@7.2.3/dist/gridstack-all.js'];\n      for (var i = 0; i < urls.length; i++) {\n        skip.push(urls[i])\n      }\n    }    if (((window['Notyf'] !== undefined) && (!(window['Notyf'] instanceof HTMLElement))) || window.requirejs) {\n      var urls = ['https://cdn.holoviz.org/panel/1.2.3/dist/bundled/notificationarea/notyf@3/notyf.min.js'];\n      for (var i = 0; i < urls.length; i++) {\n        skip.push(urls[i])\n      }\n    }    var existing_scripts = []\n    var scripts = document.getElementsByTagName('script')\n    for (var i = 0; i < scripts.length; i++) {\n      var script = scripts[i]\n      if (script.src != null) {\n\texisting_scripts.push(script.src)\n      }\n    }\n    for (var i = 0; i < js_urls.length; i++) {\n      var url = js_urls[i];\n      if (skip.indexOf(url) !== -1 || existing_scripts.indexOf(url) !== -1) {\n\tif (!window.requirejs) {\n\t  on_load();\n\t}\n\tcontinue;\n      }\n      var element = document.createElement('script');\n      element.onload = on_load;\n      element.onerror = on_error;\n      element.async = false;\n      element.src = url;\n      console.debug(\"Bokeh: injecting script tag for BokehJS library: \", url);\n      document.head.appendChild(element);\n    }\n    for (var i = 0; i < js_modules.length; i++) {\n      var url = js_modules[i];\n      if (skip.indexOf(url) !== -1 || existing_scripts.indexOf(url) !== -1) {\n\tif (!window.requirejs) {\n\t  on_load();\n\t}\n\tcontinue;\n      }\n      var element = document.createElement('script');\n      element.onload = on_load;\n      element.onerror = on_error;\n      element.async = false;\n      element.src = url;\n      element.type = \"module\";\n      console.debug(\"Bokeh: injecting script tag for BokehJS library: \", url);\n      document.head.appendChild(element);\n    }\n    for (const name in js_exports) {\n      var url = js_exports[name];\n      if (skip.indexOf(url) >= 0 || root[name] != null) {\n\tif (!window.requirejs) {\n\t  on_load();\n\t}\n\tcontinue;\n      }\n      var element = document.createElement('script');\n      element.onerror = on_error;\n      element.async = false;\n      element.type = \"module\";\n      console.debug(\"Bokeh: injecting script tag for BokehJS library: \", url);\n      element.textContent = `\n      import ${name} from \"${url}\"\n      window.${name} = ${name}\n      window._bokeh_on_load()\n      `\n      document.head.appendChild(element);\n    }\n    if (!js_urls.length && !js_modules.length) {\n      on_load()\n    }\n  };\n\n  function inject_raw_css(css) {\n    const element = document.createElement(\"style\");\n    element.appendChild(document.createTextNode(css));\n    document.body.appendChild(element);\n  }\n\n  var js_urls = [\"https://cdn.bokeh.org/bokeh/release/bokeh-3.2.1.min.js\", \"https://cdn.bokeh.org/bokeh/release/bokeh-gl-3.2.1.min.js\", \"https://cdn.bokeh.org/bokeh/release/bokeh-widgets-3.2.1.min.js\", \"https://cdn.bokeh.org/bokeh/release/bokeh-tables-3.2.1.min.js\", \"https://cdn.holoviz.org/panel/1.2.3/dist/panel.min.js\"];\n  var js_modules = [];\n  var js_exports = {};\n  var css_urls = [];\n  var inline_js = [    function(Bokeh) {\n      Bokeh.set_log_level(\"info\");\n    },\nfunction(Bokeh) {} // ensure no trailing comma for IE\n  ];\n\n  function run_inline_js() {\n    if ((root.Bokeh !== undefined) || (force === true)) {\n      for (var i = 0; i < inline_js.length; i++) {\n        inline_js[i].call(root, root.Bokeh);\n      }\n      // Cache old bokeh versions\n      if (Bokeh != undefined && !reloading) {\n\tvar NewBokeh = root.Bokeh;\n\tif (Bokeh.versions === undefined) {\n\t  Bokeh.versions = new Map();\n\t}\n\tif (NewBokeh.version !== Bokeh.version) {\n\t  Bokeh.versions.set(NewBokeh.version, NewBokeh)\n\t}\n\troot.Bokeh = Bokeh;\n      }} else if (Date.now() < root._bokeh_timeout) {\n      setTimeout(run_inline_js, 100);\n    } else if (!root._bokeh_failed_load) {\n      console.log(\"Bokeh: BokehJS failed to load within specified timeout.\");\n      root._bokeh_failed_load = true;\n    }\n    root._bokeh_is_initializing = false\n  }\n\n  function load_or_wait() {\n    // Implement a backoff loop that tries to ensure we do not load multiple\n    // versions of Bokeh and its dependencies at the same time.\n    // In recent versions we use the root._bokeh_is_initializing flag\n    // to determine whether there is an ongoing attempt to initialize\n    // bokeh, however for backward compatibility we also try to ensure\n    // that we do not start loading a newer (Panel>=1.0 and Bokeh>3) version\n    // before older versions are fully initialized.\n    if (root._bokeh_is_initializing && Date.now() > root._bokeh_timeout) {\n      root._bokeh_is_initializing = false;\n      root._bokeh_onload_callbacks = undefined;\n      console.log(\"Bokeh: BokehJS was loaded multiple times but one version failed to initialize.\");\n      load_or_wait();\n    } else if (root._bokeh_is_initializing || (typeof root._bokeh_is_initializing === \"undefined\" && root._bokeh_onload_callbacks !== undefined)) {\n      setTimeout(load_or_wait, 100);\n    } else {\n      Bokeh = root.Bokeh;\n      bokeh_loaded = Bokeh != null && (Bokeh.version === py_version || (Bokeh.versions !== undefined && Bokeh.versions.has(py_version)));\n      root._bokeh_is_initializing = true\n      root._bokeh_onload_callbacks = []\n      if (!reloading && (!bokeh_loaded || is_dev)) {\n\troot.Bokeh = undefined;\n      }\n      load_libs(css_urls, js_urls, js_modules, js_exports, function() {\n\tconsole.debug(\"Bokeh: BokehJS plotting callback run at\", now());\n\trun_inline_js();\n      });\n    }\n  }\n  // Give older versions of the autoload script a head-start to ensure\n  // they initialize before we start loading newer version.\n  setTimeout(load_or_wait, 100)\n}(window));"
     },
     "metadata": {},
     "output_type": "display_data"
    },
    {
     "data": {
      "application/javascript": [
       "\n",
       "if ((window.PyViz === undefined) || (window.PyViz instanceof HTMLElement)) {\n",
       "  window.PyViz = {comms: {}, comm_status:{}, kernels:{}, receivers: {}, plot_index: []}\n",
       "}\n",
       "\n",
       "\n",
       "    function JupyterCommManager() {\n",
       "    }\n",
       "\n",
       "    JupyterCommManager.prototype.register_target = function(plot_id, comm_id, msg_handler) {\n",
       "      if (window.comm_manager || ((window.Jupyter !== undefined) && (Jupyter.notebook.kernel != null))) {\n",
       "        var comm_manager = window.comm_manager || Jupyter.notebook.kernel.comm_manager;\n",
       "        comm_manager.register_target(comm_id, function(comm) {\n",
       "          comm.on_msg(msg_handler);\n",
       "        });\n",
       "      } else if ((plot_id in window.PyViz.kernels) && (window.PyViz.kernels[plot_id])) {\n",
       "        window.PyViz.kernels[plot_id].registerCommTarget(comm_id, function(comm) {\n",
       "          comm.onMsg = msg_handler;\n",
       "        });\n",
       "      } else if (typeof google != 'undefined' && google.colab.kernel != null) {\n",
       "        google.colab.kernel.comms.registerTarget(comm_id, (comm) => {\n",
       "          var messages = comm.messages[Symbol.asyncIterator]();\n",
       "          function processIteratorResult(result) {\n",
       "            var message = result.value;\n",
       "            console.log(message)\n",
       "            var content = {data: message.data, comm_id};\n",
       "            var buffers = []\n",
       "            for (var buffer of message.buffers || []) {\n",
       "              buffers.push(new DataView(buffer))\n",
       "            }\n",
       "            var metadata = message.metadata || {};\n",
       "            var msg = {content, buffers, metadata}\n",
       "            msg_handler(msg);\n",
       "            return messages.next().then(processIteratorResult);\n",
       "          }\n",
       "          return messages.next().then(processIteratorResult);\n",
       "        })\n",
       "      }\n",
       "    }\n",
       "\n",
       "    JupyterCommManager.prototype.get_client_comm = function(plot_id, comm_id, msg_handler) {\n",
       "      if (comm_id in window.PyViz.comms) {\n",
       "        return window.PyViz.comms[comm_id];\n",
       "      } else if (window.comm_manager || ((window.Jupyter !== undefined) && (Jupyter.notebook.kernel != null))) {\n",
       "        var comm_manager = window.comm_manager || Jupyter.notebook.kernel.comm_manager;\n",
       "        var comm = comm_manager.new_comm(comm_id, {}, {}, {}, comm_id);\n",
       "        if (msg_handler) {\n",
       "          comm.on_msg(msg_handler);\n",
       "        }\n",
       "      } else if ((plot_id in window.PyViz.kernels) && (window.PyViz.kernels[plot_id])) {\n",
       "        var comm = window.PyViz.kernels[plot_id].connectToComm(comm_id);\n",
       "        comm.open();\n",
       "        if (msg_handler) {\n",
       "          comm.onMsg = msg_handler;\n",
       "        }\n",
       "      } else if (typeof google != 'undefined' && google.colab.kernel != null) {\n",
       "        var comm_promise = google.colab.kernel.comms.open(comm_id)\n",
       "        comm_promise.then((comm) => {\n",
       "          window.PyViz.comms[comm_id] = comm;\n",
       "          if (msg_handler) {\n",
       "            var messages = comm.messages[Symbol.asyncIterator]();\n",
       "            function processIteratorResult(result) {\n",
       "              var message = result.value;\n",
       "              var content = {data: message.data};\n",
       "              var metadata = message.metadata || {comm_id};\n",
       "              var msg = {content, metadata}\n",
       "              msg_handler(msg);\n",
       "              return messages.next().then(processIteratorResult);\n",
       "            }\n",
       "            return messages.next().then(processIteratorResult);\n",
       "          }\n",
       "        }) \n",
       "        var sendClosure = (data, metadata, buffers, disposeOnDone) => {\n",
       "          return comm_promise.then((comm) => {\n",
       "            comm.send(data, metadata, buffers, disposeOnDone);\n",
       "          });\n",
       "        };\n",
       "        var comm = {\n",
       "          send: sendClosure\n",
       "        };\n",
       "      }\n",
       "      window.PyViz.comms[comm_id] = comm;\n",
       "      return comm;\n",
       "    }\n",
       "    window.PyViz.comm_manager = new JupyterCommManager();\n",
       "    \n",
       "\n",
       "\n",
       "var JS_MIME_TYPE = 'application/javascript';\n",
       "var HTML_MIME_TYPE = 'text/html';\n",
       "var EXEC_MIME_TYPE = 'application/vnd.holoviews_exec.v0+json';\n",
       "var CLASS_NAME = 'output';\n",
       "\n",
       "/**\n",
       " * Render data to the DOM node\n",
       " */\n",
       "function render(props, node) {\n",
       "  var div = document.createElement(\"div\");\n",
       "  var script = document.createElement(\"script\");\n",
       "  node.appendChild(div);\n",
       "  node.appendChild(script);\n",
       "}\n",
       "\n",
       "/**\n",
       " * Handle when a new output is added\n",
       " */\n",
       "function handle_add_output(event, handle) {\n",
       "  var output_area = handle.output_area;\n",
       "  var output = handle.output;\n",
       "  if ((output.data == undefined) || (!output.data.hasOwnProperty(EXEC_MIME_TYPE))) {\n",
       "    return\n",
       "  }\n",
       "  var id = output.metadata[EXEC_MIME_TYPE][\"id\"];\n",
       "  var toinsert = output_area.element.find(\".\" + CLASS_NAME.split(' ')[0]);\n",
       "  if (id !== undefined) {\n",
       "    var nchildren = toinsert.length;\n",
       "    var html_node = toinsert[nchildren-1].children[0];\n",
       "    html_node.innerHTML = output.data[HTML_MIME_TYPE];\n",
       "    var scripts = [];\n",
       "    var nodelist = html_node.querySelectorAll(\"script\");\n",
       "    for (var i in nodelist) {\n",
       "      if (nodelist.hasOwnProperty(i)) {\n",
       "        scripts.push(nodelist[i])\n",
       "      }\n",
       "    }\n",
       "\n",
       "    scripts.forEach( function (oldScript) {\n",
       "      var newScript = document.createElement(\"script\");\n",
       "      var attrs = [];\n",
       "      var nodemap = oldScript.attributes;\n",
       "      for (var j in nodemap) {\n",
       "        if (nodemap.hasOwnProperty(j)) {\n",
       "          attrs.push(nodemap[j])\n",
       "        }\n",
       "      }\n",
       "      attrs.forEach(function(attr) { newScript.setAttribute(attr.name, attr.value) });\n",
       "      newScript.appendChild(document.createTextNode(oldScript.innerHTML));\n",
       "      oldScript.parentNode.replaceChild(newScript, oldScript);\n",
       "    });\n",
       "    if (JS_MIME_TYPE in output.data) {\n",
       "      toinsert[nchildren-1].children[1].textContent = output.data[JS_MIME_TYPE];\n",
       "    }\n",
       "    output_area._hv_plot_id = id;\n",
       "    if ((window.Bokeh !== undefined) && (id in Bokeh.index)) {\n",
       "      window.PyViz.plot_index[id] = Bokeh.index[id];\n",
       "    } else {\n",
       "      window.PyViz.plot_index[id] = null;\n",
       "    }\n",
       "  } else if (output.metadata[EXEC_MIME_TYPE][\"server_id\"] !== undefined) {\n",
       "    var bk_div = document.createElement(\"div\");\n",
       "    bk_div.innerHTML = output.data[HTML_MIME_TYPE];\n",
       "    var script_attrs = bk_div.children[0].attributes;\n",
       "    for (var i = 0; i < script_attrs.length; i++) {\n",
       "      toinsert[toinsert.length - 1].childNodes[1].setAttribute(script_attrs[i].name, script_attrs[i].value);\n",
       "    }\n",
       "    // store reference to server id on output_area\n",
       "    output_area._bokeh_server_id = output.metadata[EXEC_MIME_TYPE][\"server_id\"];\n",
       "  }\n",
       "}\n",
       "\n",
       "/**\n",
       " * Handle when an output is cleared or removed\n",
       " */\n",
       "function handle_clear_output(event, handle) {\n",
       "  var id = handle.cell.output_area._hv_plot_id;\n",
       "  var server_id = handle.cell.output_area._bokeh_server_id;\n",
       "  if (((id === undefined) || !(id in PyViz.plot_index)) && (server_id !== undefined)) { return; }\n",
       "  var comm = window.PyViz.comm_manager.get_client_comm(\"hv-extension-comm\", \"hv-extension-comm\", function () {});\n",
       "  if (server_id !== null) {\n",
       "    comm.send({event_type: 'server_delete', 'id': server_id});\n",
       "    return;\n",
       "  } else if (comm !== null) {\n",
       "    comm.send({event_type: 'delete', 'id': id});\n",
       "  }\n",
       "  delete PyViz.plot_index[id];\n",
       "  if ((window.Bokeh !== undefined) & (id in window.Bokeh.index)) {\n",
       "    var doc = window.Bokeh.index[id].model.document\n",
       "    doc.clear();\n",
       "    const i = window.Bokeh.documents.indexOf(doc);\n",
       "    if (i > -1) {\n",
       "      window.Bokeh.documents.splice(i, 1);\n",
       "    }\n",
       "  }\n",
       "}\n",
       "\n",
       "/**\n",
       " * Handle kernel restart event\n",
       " */\n",
       "function handle_kernel_cleanup(event, handle) {\n",
       "  delete PyViz.comms[\"hv-extension-comm\"];\n",
       "  window.PyViz.plot_index = {}\n",
       "}\n",
       "\n",
       "/**\n",
       " * Handle update_display_data messages\n",
       " */\n",
       "function handle_update_output(event, handle) {\n",
       "  handle_clear_output(event, {cell: {output_area: handle.output_area}})\n",
       "  handle_add_output(event, handle)\n",
       "}\n",
       "\n",
       "function register_renderer(events, OutputArea) {\n",
       "  function append_mime(data, metadata, element) {\n",
       "    // create a DOM node to render to\n",
       "    var toinsert = this.create_output_subarea(\n",
       "    metadata,\n",
       "    CLASS_NAME,\n",
       "    EXEC_MIME_TYPE\n",
       "    );\n",
       "    this.keyboard_manager.register_events(toinsert);\n",
       "    // Render to node\n",
       "    var props = {data: data, metadata: metadata[EXEC_MIME_TYPE]};\n",
       "    render(props, toinsert[0]);\n",
       "    element.append(toinsert);\n",
       "    return toinsert\n",
       "  }\n",
       "\n",
       "  events.on('output_added.OutputArea', handle_add_output);\n",
       "  events.on('output_updated.OutputArea', handle_update_output);\n",
       "  events.on('clear_output.CodeCell', handle_clear_output);\n",
       "  events.on('delete.Cell', handle_clear_output);\n",
       "  events.on('kernel_ready.Kernel', handle_kernel_cleanup);\n",
       "\n",
       "  OutputArea.prototype.register_mime_type(EXEC_MIME_TYPE, append_mime, {\n",
       "    safe: true,\n",
       "    index: 0\n",
       "  });\n",
       "}\n",
       "\n",
       "if (window.Jupyter !== undefined) {\n",
       "  try {\n",
       "    var events = require('base/js/events');\n",
       "    var OutputArea = require('notebook/js/outputarea').OutputArea;\n",
       "    if (OutputArea.prototype.mime_types().indexOf(EXEC_MIME_TYPE) == -1) {\n",
       "      register_renderer(events, OutputArea);\n",
       "    }\n",
       "  } catch(err) {\n",
       "  }\n",
       "}\n"
      ],
      "application/vnd.holoviews_load.v0+json": "\nif ((window.PyViz === undefined) || (window.PyViz instanceof HTMLElement)) {\n  window.PyViz = {comms: {}, comm_status:{}, kernels:{}, receivers: {}, plot_index: []}\n}\n\n\n    function JupyterCommManager() {\n    }\n\n    JupyterCommManager.prototype.register_target = function(plot_id, comm_id, msg_handler) {\n      if (window.comm_manager || ((window.Jupyter !== undefined) && (Jupyter.notebook.kernel != null))) {\n        var comm_manager = window.comm_manager || Jupyter.notebook.kernel.comm_manager;\n        comm_manager.register_target(comm_id, function(comm) {\n          comm.on_msg(msg_handler);\n        });\n      } else if ((plot_id in window.PyViz.kernels) && (window.PyViz.kernels[plot_id])) {\n        window.PyViz.kernels[plot_id].registerCommTarget(comm_id, function(comm) {\n          comm.onMsg = msg_handler;\n        });\n      } else if (typeof google != 'undefined' && google.colab.kernel != null) {\n        google.colab.kernel.comms.registerTarget(comm_id, (comm) => {\n          var messages = comm.messages[Symbol.asyncIterator]();\n          function processIteratorResult(result) {\n            var message = result.value;\n            console.log(message)\n            var content = {data: message.data, comm_id};\n            var buffers = []\n            for (var buffer of message.buffers || []) {\n              buffers.push(new DataView(buffer))\n            }\n            var metadata = message.metadata || {};\n            var msg = {content, buffers, metadata}\n            msg_handler(msg);\n            return messages.next().then(processIteratorResult);\n          }\n          return messages.next().then(processIteratorResult);\n        })\n      }\n    }\n\n    JupyterCommManager.prototype.get_client_comm = function(plot_id, comm_id, msg_handler) {\n      if (comm_id in window.PyViz.comms) {\n        return window.PyViz.comms[comm_id];\n      } else if (window.comm_manager || ((window.Jupyter !== undefined) && (Jupyter.notebook.kernel != null))) {\n        var comm_manager = window.comm_manager || Jupyter.notebook.kernel.comm_manager;\n        var comm = comm_manager.new_comm(comm_id, {}, {}, {}, comm_id);\n        if (msg_handler) {\n          comm.on_msg(msg_handler);\n        }\n      } else if ((plot_id in window.PyViz.kernels) && (window.PyViz.kernels[plot_id])) {\n        var comm = window.PyViz.kernels[plot_id].connectToComm(comm_id);\n        comm.open();\n        if (msg_handler) {\n          comm.onMsg = msg_handler;\n        }\n      } else if (typeof google != 'undefined' && google.colab.kernel != null) {\n        var comm_promise = google.colab.kernel.comms.open(comm_id)\n        comm_promise.then((comm) => {\n          window.PyViz.comms[comm_id] = comm;\n          if (msg_handler) {\n            var messages = comm.messages[Symbol.asyncIterator]();\n            function processIteratorResult(result) {\n              var message = result.value;\n              var content = {data: message.data};\n              var metadata = message.metadata || {comm_id};\n              var msg = {content, metadata}\n              msg_handler(msg);\n              return messages.next().then(processIteratorResult);\n            }\n            return messages.next().then(processIteratorResult);\n          }\n        }) \n        var sendClosure = (data, metadata, buffers, disposeOnDone) => {\n          return comm_promise.then((comm) => {\n            comm.send(data, metadata, buffers, disposeOnDone);\n          });\n        };\n        var comm = {\n          send: sendClosure\n        };\n      }\n      window.PyViz.comms[comm_id] = comm;\n      return comm;\n    }\n    window.PyViz.comm_manager = new JupyterCommManager();\n    \n\n\nvar JS_MIME_TYPE = 'application/javascript';\nvar HTML_MIME_TYPE = 'text/html';\nvar EXEC_MIME_TYPE = 'application/vnd.holoviews_exec.v0+json';\nvar CLASS_NAME = 'output';\n\n/**\n * Render data to the DOM node\n */\nfunction render(props, node) {\n  var div = document.createElement(\"div\");\n  var script = document.createElement(\"script\");\n  node.appendChild(div);\n  node.appendChild(script);\n}\n\n/**\n * Handle when a new output is added\n */\nfunction handle_add_output(event, handle) {\n  var output_area = handle.output_area;\n  var output = handle.output;\n  if ((output.data == undefined) || (!output.data.hasOwnProperty(EXEC_MIME_TYPE))) {\n    return\n  }\n  var id = output.metadata[EXEC_MIME_TYPE][\"id\"];\n  var toinsert = output_area.element.find(\".\" + CLASS_NAME.split(' ')[0]);\n  if (id !== undefined) {\n    var nchildren = toinsert.length;\n    var html_node = toinsert[nchildren-1].children[0];\n    html_node.innerHTML = output.data[HTML_MIME_TYPE];\n    var scripts = [];\n    var nodelist = html_node.querySelectorAll(\"script\");\n    for (var i in nodelist) {\n      if (nodelist.hasOwnProperty(i)) {\n        scripts.push(nodelist[i])\n      }\n    }\n\n    scripts.forEach( function (oldScript) {\n      var newScript = document.createElement(\"script\");\n      var attrs = [];\n      var nodemap = oldScript.attributes;\n      for (var j in nodemap) {\n        if (nodemap.hasOwnProperty(j)) {\n          attrs.push(nodemap[j])\n        }\n      }\n      attrs.forEach(function(attr) { newScript.setAttribute(attr.name, attr.value) });\n      newScript.appendChild(document.createTextNode(oldScript.innerHTML));\n      oldScript.parentNode.replaceChild(newScript, oldScript);\n    });\n    if (JS_MIME_TYPE in output.data) {\n      toinsert[nchildren-1].children[1].textContent = output.data[JS_MIME_TYPE];\n    }\n    output_area._hv_plot_id = id;\n    if ((window.Bokeh !== undefined) && (id in Bokeh.index)) {\n      window.PyViz.plot_index[id] = Bokeh.index[id];\n    } else {\n      window.PyViz.plot_index[id] = null;\n    }\n  } else if (output.metadata[EXEC_MIME_TYPE][\"server_id\"] !== undefined) {\n    var bk_div = document.createElement(\"div\");\n    bk_div.innerHTML = output.data[HTML_MIME_TYPE];\n    var script_attrs = bk_div.children[0].attributes;\n    for (var i = 0; i < script_attrs.length; i++) {\n      toinsert[toinsert.length - 1].childNodes[1].setAttribute(script_attrs[i].name, script_attrs[i].value);\n    }\n    // store reference to server id on output_area\n    output_area._bokeh_server_id = output.metadata[EXEC_MIME_TYPE][\"server_id\"];\n  }\n}\n\n/**\n * Handle when an output is cleared or removed\n */\nfunction handle_clear_output(event, handle) {\n  var id = handle.cell.output_area._hv_plot_id;\n  var server_id = handle.cell.output_area._bokeh_server_id;\n  if (((id === undefined) || !(id in PyViz.plot_index)) && (server_id !== undefined)) { return; }\n  var comm = window.PyViz.comm_manager.get_client_comm(\"hv-extension-comm\", \"hv-extension-comm\", function () {});\n  if (server_id !== null) {\n    comm.send({event_type: 'server_delete', 'id': server_id});\n    return;\n  } else if (comm !== null) {\n    comm.send({event_type: 'delete', 'id': id});\n  }\n  delete PyViz.plot_index[id];\n  if ((window.Bokeh !== undefined) & (id in window.Bokeh.index)) {\n    var doc = window.Bokeh.index[id].model.document\n    doc.clear();\n    const i = window.Bokeh.documents.indexOf(doc);\n    if (i > -1) {\n      window.Bokeh.documents.splice(i, 1);\n    }\n  }\n}\n\n/**\n * Handle kernel restart event\n */\nfunction handle_kernel_cleanup(event, handle) {\n  delete PyViz.comms[\"hv-extension-comm\"];\n  window.PyViz.plot_index = {}\n}\n\n/**\n * Handle update_display_data messages\n */\nfunction handle_update_output(event, handle) {\n  handle_clear_output(event, {cell: {output_area: handle.output_area}})\n  handle_add_output(event, handle)\n}\n\nfunction register_renderer(events, OutputArea) {\n  function append_mime(data, metadata, element) {\n    // create a DOM node to render to\n    var toinsert = this.create_output_subarea(\n    metadata,\n    CLASS_NAME,\n    EXEC_MIME_TYPE\n    );\n    this.keyboard_manager.register_events(toinsert);\n    // Render to node\n    var props = {data: data, metadata: metadata[EXEC_MIME_TYPE]};\n    render(props, toinsert[0]);\n    element.append(toinsert);\n    return toinsert\n  }\n\n  events.on('output_added.OutputArea', handle_add_output);\n  events.on('output_updated.OutputArea', handle_update_output);\n  events.on('clear_output.CodeCell', handle_clear_output);\n  events.on('delete.Cell', handle_clear_output);\n  events.on('kernel_ready.Kernel', handle_kernel_cleanup);\n\n  OutputArea.prototype.register_mime_type(EXEC_MIME_TYPE, append_mime, {\n    safe: true,\n    index: 0\n  });\n}\n\nif (window.Jupyter !== undefined) {\n  try {\n    var events = require('base/js/events');\n    var OutputArea = require('notebook/js/outputarea').OutputArea;\n    if (OutputArea.prototype.mime_types().indexOf(EXEC_MIME_TYPE) == -1) {\n      register_renderer(events, OutputArea);\n    }\n  } catch(err) {\n  }\n}\n"
     },
     "metadata": {},
     "output_type": "display_data"
    },
    {
     "data": {
      "text/html": [
       "<style>*[data-root-id],\n",
       "*[data-root-id] > * {\n",
       "  box-sizing: border-box;\n",
       "  font-family: var(--jp-ui-font-family);\n",
       "  font-size: var(--jp-ui-font-size1);\n",
       "  color: var(--vscode-editor-foreground, var(--jp-ui-font-color1));\n",
       "}\n",
       "\n",
       "/* Override VSCode background color */\n",
       ".cell-output-ipywidget-background:has(\n",
       "    > .cell-output-ipywidget-background > .lm-Widget > *[data-root-id]\n",
       "  ),\n",
       ".cell-output-ipywidget-background:has(> .lm-Widget > *[data-root-id]) {\n",
       "  background-color: transparent !important;\n",
       "}\n",
       "</style>"
      ]
     },
     "metadata": {},
     "output_type": "display_data"
    }
   ],
   "source": [
    "import pandas as pd\n",
    "import nasdaqdatalink as nddl\n",
    "import matplotlib.pyplot as plt\n",
    "from scipy import stats\n",
    "import seaborn as sns\n",
    "import numpy as np\n",
    "import os\n",
    "import hvplot.pandas\n",
    "\n",
    "# store the api key (just the key in a text file with this name)\n",
    "nddl.read_key(filename=\"nasdaqdatalinkapikey.txt\")\n"
   ]
  },
  {
   "cell_type": "code",
   "execution_count": 2,
   "id": "07b5ad29",
   "metadata": {},
   "outputs": [
    {
     "ename": "ForbiddenError",
     "evalue": "(Status 403) (Nasdaq Data Link Error QEPx04) A valid API key is required to retrieve data. Please check your API key and try again. You can find your API key under your account settings.",
     "output_type": "error",
     "traceback": [
      "\u001b[1;31m---------------------------------------------------------------------------\u001b[0m",
      "\u001b[1;31mForbiddenError\u001b[0m                            Traceback (most recent call last)",
      "Cell \u001b[1;32mIn[2], line 2\u001b[0m\n\u001b[0;32m      1\u001b[0m \u001b[38;5;66;03m# get the indicator table\u001b[39;00m\n\u001b[1;32m----> 2\u001b[0m zindicators \u001b[38;5;241m=\u001b[39m nddl\u001b[38;5;241m.\u001b[39mget_table(\u001b[38;5;124m\"\u001b[39m\u001b[38;5;124mZILLOW/INDICATORS\u001b[39m\u001b[38;5;124m\"\u001b[39m)\n\u001b[0;32m      3\u001b[0m zindicators\n",
      "File \u001b[1;32m~\\anaconda3\\Lib\\site-packages\\nasdaqdatalink\\get_table.py:19\u001b[0m, in \u001b[0;36mget_table\u001b[1;34m(datatable_code, **options)\u001b[0m\n\u001b[0;32m     17\u001b[0m \u001b[38;5;28;01mwhile\u001b[39;00m \u001b[38;5;28;01mTrue\u001b[39;00m:\n\u001b[0;32m     18\u001b[0m     next_options \u001b[38;5;241m=\u001b[39m copy\u001b[38;5;241m.\u001b[39mdeepcopy(options)\n\u001b[1;32m---> 19\u001b[0m     next_data \u001b[38;5;241m=\u001b[39m Datatable(datatable_code)\u001b[38;5;241m.\u001b[39mdata(params\u001b[38;5;241m=\u001b[39mnext_options)\n\u001b[0;32m     21\u001b[0m     \u001b[38;5;28;01mif\u001b[39;00m data \u001b[38;5;129;01mis\u001b[39;00m \u001b[38;5;28;01mNone\u001b[39;00m:\n\u001b[0;32m     22\u001b[0m         data \u001b[38;5;241m=\u001b[39m next_data\n",
      "File \u001b[1;32m~\\anaconda3\\Lib\\site-packages\\nasdaqdatalink\\model\\datatable.py:31\u001b[0m, in \u001b[0;36mDatatable.data\u001b[1;34m(self, **options)\u001b[0m\n\u001b[0;32m     29\u001b[0m \u001b[38;5;28;01mif\u001b[39;00m \u001b[38;5;129;01mnot\u001b[39;00m options:\n\u001b[0;32m     30\u001b[0m     options \u001b[38;5;241m=\u001b[39m {\u001b[38;5;124m'\u001b[39m\u001b[38;5;124mparams\u001b[39m\u001b[38;5;124m'\u001b[39m: {}}\n\u001b[1;32m---> 31\u001b[0m \u001b[38;5;28;01mreturn\u001b[39;00m Data\u001b[38;5;241m.\u001b[39mpage(\u001b[38;5;28mself\u001b[39m, \u001b[38;5;241m*\u001b[39m\u001b[38;5;241m*\u001b[39moptions)\n",
      "File \u001b[1;32m~\\anaconda3\\Lib\\site-packages\\nasdaqdatalink\\operations\\list.py:30\u001b[0m, in \u001b[0;36mListOperation.page\u001b[1;34m(cls, datatable, **options)\u001b[0m\n\u001b[0;32m     26\u001b[0m request_type \u001b[38;5;241m=\u001b[39m RequestType\u001b[38;5;241m.\u001b[39mget_request_type(path, \u001b[38;5;241m*\u001b[39m\u001b[38;5;241m*\u001b[39moptions)\n\u001b[0;32m     28\u001b[0m updated_options \u001b[38;5;241m=\u001b[39m Util\u001b[38;5;241m.\u001b[39mconvert_options(request_type\u001b[38;5;241m=\u001b[39mrequest_type, \u001b[38;5;241m*\u001b[39m\u001b[38;5;241m*\u001b[39moptions)\n\u001b[1;32m---> 30\u001b[0m r \u001b[38;5;241m=\u001b[39m Connection\u001b[38;5;241m.\u001b[39mrequest(request_type, path, \u001b[38;5;241m*\u001b[39m\u001b[38;5;241m*\u001b[39mupdated_options)\n\u001b[0;32m     32\u001b[0m response_data \u001b[38;5;241m=\u001b[39m r\u001b[38;5;241m.\u001b[39mjson()\n\u001b[0;32m     33\u001b[0m Util\u001b[38;5;241m.\u001b[39mconvert_to_dates(response_data)\n",
      "File \u001b[1;32m~\\anaconda3\\Lib\\site-packages\\nasdaqdatalink\\connection.py:40\u001b[0m, in \u001b[0;36mConnection.request\u001b[1;34m(cls, http_verb, url, **options)\u001b[0m\n\u001b[0;32m     36\u001b[0m options[\u001b[38;5;124m'\u001b[39m\u001b[38;5;124mheaders\u001b[39m\u001b[38;5;124m'\u001b[39m] \u001b[38;5;241m=\u001b[39m headers\n\u001b[0;32m     38\u001b[0m abs_url \u001b[38;5;241m=\u001b[39m \u001b[38;5;124m'\u001b[39m\u001b[38;5;132;01m%s\u001b[39;00m\u001b[38;5;124m/\u001b[39m\u001b[38;5;132;01m%s\u001b[39;00m\u001b[38;5;124m'\u001b[39m \u001b[38;5;241m%\u001b[39m (ApiConfig\u001b[38;5;241m.\u001b[39mapi_base, url)\n\u001b[1;32m---> 40\u001b[0m \u001b[38;5;28;01mreturn\u001b[39;00m \u001b[38;5;28mcls\u001b[39m\u001b[38;5;241m.\u001b[39mexecute_request(http_verb, abs_url, \u001b[38;5;241m*\u001b[39m\u001b[38;5;241m*\u001b[39moptions)\n",
      "File \u001b[1;32m~\\anaconda3\\Lib\\site-packages\\nasdaqdatalink\\connection.py:52\u001b[0m, in \u001b[0;36mConnection.execute_request\u001b[1;34m(cls, http_verb, url, **options)\u001b[0m\n\u001b[0;32m     47\u001b[0m response \u001b[38;5;241m=\u001b[39m session\u001b[38;5;241m.\u001b[39mrequest(method\u001b[38;5;241m=\u001b[39mhttp_verb,\n\u001b[0;32m     48\u001b[0m                            url\u001b[38;5;241m=\u001b[39murl,\n\u001b[0;32m     49\u001b[0m                            verify\u001b[38;5;241m=\u001b[39mApiConfig\u001b[38;5;241m.\u001b[39mverify_ssl,\n\u001b[0;32m     50\u001b[0m                            \u001b[38;5;241m*\u001b[39m\u001b[38;5;241m*\u001b[39moptions)\n\u001b[0;32m     51\u001b[0m \u001b[38;5;28;01mif\u001b[39;00m response\u001b[38;5;241m.\u001b[39mstatus_code \u001b[38;5;241m<\u001b[39m \u001b[38;5;241m200\u001b[39m \u001b[38;5;129;01mor\u001b[39;00m response\u001b[38;5;241m.\u001b[39mstatus_code \u001b[38;5;241m>\u001b[39m\u001b[38;5;241m=\u001b[39m \u001b[38;5;241m300\u001b[39m:\n\u001b[1;32m---> 52\u001b[0m     \u001b[38;5;28mcls\u001b[39m\u001b[38;5;241m.\u001b[39mhandle_api_error(response)\n\u001b[0;32m     53\u001b[0m \u001b[38;5;28;01melse\u001b[39;00m:\n\u001b[0;32m     54\u001b[0m     \u001b[38;5;28;01mreturn\u001b[39;00m response\n",
      "File \u001b[1;32m~\\anaconda3\\Lib\\site-packages\\nasdaqdatalink\\connection.py:120\u001b[0m, in \u001b[0;36mConnection.handle_api_error\u001b[1;34m(cls, resp)\u001b[0m\n\u001b[0;32m    109\u001b[0m d_klass \u001b[38;5;241m=\u001b[39m {\n\u001b[0;32m    110\u001b[0m     \u001b[38;5;124m'\u001b[39m\u001b[38;5;124mL\u001b[39m\u001b[38;5;124m'\u001b[39m: LimitExceededError,\n\u001b[0;32m    111\u001b[0m     \u001b[38;5;124m'\u001b[39m\u001b[38;5;124mM\u001b[39m\u001b[38;5;124m'\u001b[39m: InternalServerError,\n\u001b[1;32m   (...)\u001b[0m\n\u001b[0;32m    116\u001b[0m     \u001b[38;5;124m'\u001b[39m\u001b[38;5;124mX\u001b[39m\u001b[38;5;124m'\u001b[39m: ServiceUnavailableError\n\u001b[0;32m    117\u001b[0m }\n\u001b[0;32m    118\u001b[0m klass \u001b[38;5;241m=\u001b[39m d_klass\u001b[38;5;241m.\u001b[39mget(code_letter, DataLinkError)\n\u001b[1;32m--> 120\u001b[0m \u001b[38;5;28;01mraise\u001b[39;00m klass(message, resp\u001b[38;5;241m.\u001b[39mstatus_code, resp\u001b[38;5;241m.\u001b[39mtext, resp\u001b[38;5;241m.\u001b[39mheaders, code)\n",
      "\u001b[1;31mForbiddenError\u001b[0m: (Status 403) (Nasdaq Data Link Error QEPx04) A valid API key is required to retrieve data. Please check your API key and try again. You can find your API key under your account settings."
     ]
    }
   ],
   "source": [
    "# get the indicator table\n",
    "zindicators = nddl.get_table(\"ZILLOW/INDICATORS\")\n",
    "zindicators"
   ]
  },
  {
   "cell_type": "code",
   "execution_count": null,
   "id": "902c5e2f",
   "metadata": {},
   "outputs": [],
   "source": []
  },
  {
   "cell_type": "code",
   "execution_count": null,
   "id": "3b222e6a",
   "metadata": {},
   "outputs": [],
   "source": []
  },
  {
   "cell_type": "code",
   "execution_count": null,
   "id": "bbc814ee",
   "metadata": {},
   "outputs": [],
   "source": [
    "# retrieve smooth median house price data\n",
    "# get the data table by indicator (the whole table is huge), paginate= True will retrieve more than 10K rows, otherwise limit to 10K rows.\n",
    "sssm_data = nddl.get_table(\"ZILLOW/DATA\", indicator_id='SSSM', paginate=True)\n",
    "sssm_data"
   ]
  },
  {
   "cell_type": "code",
   "execution_count": null,
   "id": "4dca0349",
   "metadata": {},
   "outputs": [],
   "source": []
  },
  {
   "cell_type": "code",
   "execution_count": null,
   "id": "7dc0f30b",
   "metadata": {},
   "outputs": [],
   "source": [
    "# get SRSM, raw median price data\n",
    "srsm_data = nddl.get_table(\"ZILLOW/DATA\", indicator_id='SRSM', paginate=True)\n",
    "srsm_data"
   ]
  },
  {
   "cell_type": "code",
   "execution_count": null,
   "id": "cbd40e30",
   "metadata": {},
   "outputs": [],
   "source": []
  },
  {
   "cell_type": "code",
   "execution_count": null,
   "id": "cdb3bee1",
   "metadata": {},
   "outputs": [],
   "source": [
    "# For-Sale Inventory (Smooth, SFR only, Monthly) ISSM\n",
    "issm = nddl.get_table(\"ZILLOW/DATA\", indicator_id='ISSM', paginate=True)\n",
    "issm"
   ]
  },
  {
   "cell_type": "code",
   "execution_count": null,
   "id": "06d93055",
   "metadata": {},
   "outputs": [],
   "source": []
  },
  {
   "cell_type": "code",
   "execution_count": null,
   "id": "8465fe44",
   "metadata": {},
   "outputs": [],
   "source": [
    "# retrieve raw inventory data\n",
    "irsm = nddl.get_table(\"ZILLOW/DATA\", indicator_id='IRSM', paginate=True)\n",
    "irsm"
   ]
  },
  {
   "cell_type": "code",
   "execution_count": null,
   "id": "01063cc6",
   "metadata": {},
   "outputs": [],
   "source": []
  },
  {
   "cell_type": "code",
   "execution_count": null,
   "id": "abea2440",
   "metadata": {},
   "outputs": [],
   "source": [
    "# SRAM, Median Sale Price (Raw, All Homes, Monthly), meaning all house types, previously SSSM is for SFR (single family residence)\n",
    "sram = nddl.get_table(\"ZILLOW/DATA\", indicator_id='SRAM', paginate=True)\n",
    "sram"
   ]
  },
  {
   "cell_type": "code",
   "execution_count": null,
   "id": "bd3cb5a6",
   "metadata": {},
   "outputs": [],
   "source": [
    "# get all the regions table\n",
    "zregions = nddl.get_table(\"ZILLOW/REGIONS\", paginate=True)\n",
    "zregions"
   ]
  },
  {
   "cell_type": "code",
   "execution_count": null,
   "id": "472c2b3c",
   "metadata": {},
   "outputs": [],
   "source": []
  },
  {
   "cell_type": "code",
   "execution_count": null,
   "id": "721e51da",
   "metadata": {},
   "outputs": [],
   "source": [
    "zregions['region_id'] = zregions['region_id'].astype('int64')"
   ]
  },
  {
   "cell_type": "code",
   "execution_count": null,
   "id": "2d9c5261",
   "metadata": {},
   "outputs": [],
   "source": [
    "zregions.dtypes"
   ]
  },
  {
   "cell_type": "code",
   "execution_count": null,
   "id": "0a7f0429",
   "metadata": {},
   "outputs": [],
   "source": [
    "# combine data and region df\n",
    "sssm_combine = pd.merge(sssm_data, zregions)\n",
    "sssm_combine"
   ]
  },
  {
   "cell_type": "code",
   "execution_count": null,
   "id": "efbab356",
   "metadata": {},
   "outputs": [],
   "source": [
    "# combine data and region df raw\n",
    "srsm_combine = pd.merge(srsm_data, zregions)\n",
    "srsm_combine"
   ]
  },
  {
   "cell_type": "code",
   "execution_count": null,
   "id": "7c79a1ac",
   "metadata": {},
   "outputs": [],
   "source": [
    "sram_combine = pd.merge(sram, zregions)\n",
    "sram_combine.head()"
   ]
  },
  {
   "cell_type": "code",
   "execution_count": null,
   "id": "153d41fa",
   "metadata": {},
   "outputs": [],
   "source": [
    "sram_combine[['City', 'State']] = sram_combine['region'].str.split(', ', expand=True)\n",
    "sram_combine.State.unique()"
   ]
  },
  {
   "cell_type": "code",
   "execution_count": null,
   "id": "3c7dfed3",
   "metadata": {},
   "outputs": [],
   "source": [
    "# create new columns City and State\n",
    "srsm_combine[['City', 'State']]= srsm_combine['region'].str.split(', ', expand=True)\n",
    "srsm_combine"
   ]
  },
  {
   "cell_type": "code",
   "execution_count": null,
   "id": "48f3b06a",
   "metadata": {},
   "outputs": [],
   "source": [
    "srsm_combine.State.unique()"
   ]
  },
  {
   "cell_type": "code",
   "execution_count": null,
   "id": "a99d3ad8",
   "metadata": {},
   "outputs": [],
   "source": [
    "# data cleaning\n",
    "# replace (probably input error) \"NC; NC\" with \"NC\"\n",
    "srsm_combine['State'] = srsm_combine['State'].str.replace(\"NC; NC\", \"NC\")"
   ]
  },
  {
   "cell_type": "code",
   "execution_count": null,
   "id": "df3d11b3",
   "metadata": {},
   "outputs": [],
   "source": []
  },
  {
   "cell_type": "code",
   "execution_count": null,
   "id": "cdb0a57f",
   "metadata": {},
   "outputs": [],
   "source": [
    "sram_combine['State'] = sram_combine['State'].str.replace(\"NC; NC\", \"NC\")\n",
    "sram_combine.State.unique()"
   ]
  },
  {
   "cell_type": "code",
   "execution_count": null,
   "id": "5f9988a5",
   "metadata": {},
   "outputs": [],
   "source": []
  },
  {
   "cell_type": "code",
   "execution_count": null,
   "id": "0fb67274",
   "metadata": {},
   "outputs": [],
   "source": [
    "sssm_combine[['City', 'State']]= sssm_combine['region'].str.split(', ', expand=True)\n",
    "# sssm_combine['State'] = sssm_combine['State'].str.strip()\n",
    "sssm_combine"
   ]
  },
  {
   "cell_type": "code",
   "execution_count": null,
   "id": "bbc18286",
   "metadata": {
    "scrolled": true
   },
   "outputs": [],
   "source": [
    "# replace (probably input error) \"NC; NC\" with \"NC\"\n",
    "sssm_combine['State'] = sssm_combine['State'].str.replace(\"NC; NC\", \"NC\")"
   ]
  },
  {
   "cell_type": "code",
   "execution_count": null,
   "id": "5474103b",
   "metadata": {},
   "outputs": [],
   "source": [
    "sssm_combine.State.unique()"
   ]
  },
  {
   "cell_type": "code",
   "execution_count": null,
   "id": "73126c71",
   "metadata": {},
   "outputs": [],
   "source": [
    "sssm_combine[sssm_combine['State'].isin([None, 'NC; NC'])]\n"
   ]
  },
  {
   "cell_type": "code",
   "execution_count": null,
   "id": "81d9b78e",
   "metadata": {},
   "outputs": [],
   "source": [
    "sssm_combine.describe(include='all')"
   ]
  },
  {
   "cell_type": "code",
   "execution_count": null,
   "id": "355238c9",
   "metadata": {},
   "outputs": [],
   "source": [
    "srsm_combine.describe(include='all')"
   ]
  },
  {
   "cell_type": "markdown",
   "id": "38476735",
   "metadata": {},
   "source": [
    "# Do NOT run when combining code if the CSV files already exist"
   ]
  },
  {
   "cell_type": "code",
   "execution_count": null,
   "id": "0d2618e5",
   "metadata": {},
   "outputs": [],
   "source": [
    "\n",
    "# create directory to store data (csv files)\n",
    "dirpath = ('./data')\n",
    "if not os.path.exists(dirpath):\n",
    "    os.makedirs(dirpath)\n",
    "    print('created ./data/ directory')\n",
    "else:\n",
    "    print('./data directory already exist')"
   ]
  },
  {
   "cell_type": "code",
   "execution_count": null,
   "id": "6140748f",
   "metadata": {},
   "outputs": [],
   "source": [
    "# save pd to csv file for use next time without calling API again\n",
    "zindicators.to_csv('./data/zindicators.csv')\n",
    "zregions.to_csv('./data/zillow_region.csv')\n",
    "\n",
    "sssm_data.to_csv('./data/sssm_full.csv')\n",
    "srsm_data.to_csv('./data/srsm_full.csv')\n",
    "\n",
    "sssm_combine.to_csv('./data/sssm_combine.csv')\n",
    "srsm_combine.to_csv('./data/srsm_combine.csv')\n",
    "sram_combine.to_csv('./data/sram_combine.csv')\n",
    "\n",
    "irsm.to_csv('./data/irsm_full.csv')\n",
    "issm.to_csv('./data/issm.csv')\n"
   ]
  },
  {
   "cell_type": "markdown",
   "id": "6284a99b",
   "metadata": {},
   "source": [
    "## Findings about sssm_combine  \n",
    "  - It contains smooth metropolitan area monthly median house price over the years ( in each state as well as the whole of US (region = 'United States'), 90705 rows x 8 columns.  \n",
    "  - The date range may defer from city to city.   \n",
    "  - Different states have different numbers of metro area (AK, Alaska, only has 1, CA, california, has 34.  \n",
    "  - The difference between smoothed and raw data on Zillow is that the former removes 'spikes' in the raw data to make the chart look 'smoother', which is fine for our purpose. Data wise, the smoothed data will have their tail components adjusted to give the graph a \"smoother\" appearance, otherwise the raw data may have many \"steps\" or small flat lines. (e.g 130,750 (smooth) vs 130,000 (raw)). According to Zillow, the adjustment may also be for seasonal reason.  \n",
    "      - The raw data also have slightly more data points than the smoothed data (93075 vs 92558, 0.56% less).  \n",
    "      - Raw data also has State typo (eg. \"NC; NC\"), which may be introduced during data input.\n",
    "### To do:  \n",
    "  1. -find the city with the longest data period (groupby region, count)    (Dayton, 357 pt)\n",
    "  2. -plot that city with the national data  \n",
    "  3. plot the cities in CA.  \n",
    "  4. get the number of cities in each state."
   ]
  },
  {
   "cell_type": "code",
   "execution_count": null,
   "id": "5bddbad5",
   "metadata": {},
   "outputs": [],
   "source": [
    "sssm_combine = pd.read_csv('./data/sssm_combine.csv', parse_dates=['date'])\n",
    "# drop the first col (index number)\n",
    "sssm_combine = sssm_combine.drop(sssm_combine.columns[0], axis=1)\n",
    "sssm_combine"
   ]
  },
  {
   "cell_type": "code",
   "execution_count": null,
   "id": "f722c0df",
   "metadata": {},
   "outputs": [],
   "source": [
    "srsm_combine = pd.read_csv('./data/srsm_combine.csv', parse_dates=['date'])\n",
    "# drop the first col (index number)\n",
    "srsm_combine = srsm_combine.drop(srsm_combine.columns[0], axis=1)\n",
    "srsm_combine"
   ]
  },
  {
   "cell_type": "code",
   "execution_count": null,
   "id": "bf448144",
   "metadata": {},
   "outputs": [],
   "source": [
    "srsm_combine.dtypes"
   ]
  },
  {
   "cell_type": "code",
   "execution_count": null,
   "id": "bc015422",
   "metadata": {},
   "outputs": [],
   "source": [
    "issm =pd.read_csv('./data/issm.csv', parse_dates=['date'])\n",
    "issm= issm.drop(issm.columns[0], axis=1)\n",
    "issm.dtypes"
   ]
  },
  {
   "cell_type": "code",
   "execution_count": null,
   "id": "0cfbe454",
   "metadata": {},
   "outputs": [],
   "source": [
    "issm.head()"
   ]
  },
  {
   "cell_type": "code",
   "execution_count": null,
   "id": "dc0ddb20",
   "metadata": {},
   "outputs": [],
   "source": [
    "irsm =pd.read_csv('./data/irsm.csv', parse_dates=['date'])\n",
    "irsm= irsm.drop(irsm.columns[0], axis=1)\n",
    "irsm.dtypes"
   ]
  },
  {
   "cell_type": "code",
   "execution_count": null,
   "id": "170f91cb",
   "metadata": {},
   "outputs": [],
   "source": [
    "sssm_combine.dtypes"
   ]
  },
  {
   "cell_type": "code",
   "execution_count": null,
   "id": "6ad1ed69",
   "metadata": {},
   "outputs": [],
   "source": [
    "# extract national data in sssm_combine\n",
    "usa_sssm_comb = sssm_combine[sssm_combine['State'].isnull() ]\n",
    "usa_sssm_comb"
   ]
  },
  {
   "cell_type": "code",
   "execution_count": null,
   "id": "ec0ef148",
   "metadata": {},
   "outputs": [],
   "source": [
    "# extract national data in srsm_combine\n",
    "usa_srsm_comb = srsm_combine[srsm_combine['State'].isnull() ]\n",
    "usa_srsm_comb"
   ]
  },
  {
   "cell_type": "code",
   "execution_count": null,
   "id": "df461e97",
   "metadata": {},
   "outputs": [],
   "source": [
    "# remove national data from sssm_combine\n",
    "sssm_combine = sssm_combine.dropna()\n",
    "sssm_combine"
   ]
  },
  {
   "cell_type": "code",
   "execution_count": null,
   "id": "53061f10",
   "metadata": {},
   "outputs": [],
   "source": [
    "# remove country-wide data from srsm_combine\n",
    "srsm_combine = srsm_combine.dropna()\n",
    "srsm_combine.tail()"
   ]
  },
  {
   "cell_type": "code",
   "execution_count": null,
   "id": "fed85b51",
   "metadata": {},
   "outputs": [],
   "source": [
    "sssm_combine.groupby('region')['State'].count().sort_values()"
   ]
  },
  {
   "cell_type": "code",
   "execution_count": null,
   "id": "1ff8ad0c",
   "metadata": {},
   "outputs": [],
   "source": [
    "srsm_combine.groupby('region')['State'].count().sort_values()"
   ]
  },
  {
   "cell_type": "code",
   "execution_count": null,
   "id": "1e0d734e",
   "metadata": {},
   "outputs": [],
   "source": [
    "# extract Dayton, OH smooth data points\n",
    "dayton = sssm_combine[sssm_combine['region']== 'Dayton, OH']\n",
    "dayton_39 = dayton[dayton['region_id'] == 394521]\n",
    "dayton_39.sort_values(by='date').tail()"
   ]
  },
  {
   "cell_type": "code",
   "execution_count": null,
   "id": "8f83cd24",
   "metadata": {},
   "outputs": [],
   "source": [
    "# extract Dayton, OH Raw data points\n",
    "dayton_r = srsm_combine[srsm_combine['region']== 'Dayton, OH']\n",
    "# dayton_r.region_id.unique()\n",
    "dayton_39r = dayton_r[dayton_r['region_id'] == 394521]\n",
    "dayton_39r.sort_values(by='date').tail()"
   ]
  },
  {
   "cell_type": "code",
   "execution_count": null,
   "id": "eef402c3",
   "metadata": {},
   "outputs": [],
   "source": [
    "# extract new york raw data points\n",
    "ny_r = srsm_combine[srsm_combine['region']== 'New York, NY']\n",
    "ny_r.head()"
   ]
  },
  {
   "cell_type": "code",
   "execution_count": null,
   "id": "5b3dd91e",
   "metadata": {},
   "outputs": [],
   "source": [
    "# extract Killeen raw data points\n",
    "killeen_r = srsm_combine[srsm_combine['region']== 'Killeen, TX']\n",
    "len(killeen_r)\n",
    "killeen_r.region_id.unique()\n",
    "killeen_r"
   ]
  },
  {
   "cell_type": "code",
   "execution_count": null,
   "id": "c9a62ff9",
   "metadata": {},
   "outputs": [],
   "source": [
    "# extract Davenport raw data points\n",
    "davenport_r = srsm_combine[srsm_combine['region'] == 'Davenport, IA']\n",
    "davenport_r.region_id.unique()"
   ]
  },
  {
   "cell_type": "code",
   "execution_count": null,
   "id": "5d1f37b5",
   "metadata": {},
   "outputs": [],
   "source": [
    "# plotting dayton vs USA smooth\n",
    "dayton_39 = dayton_39.sort_values(by='date')\n",
    "usa_sssm_comb= usa_sssm_comb.sort_values(by='date')\n",
    "plt.plot(dayton_39['date'], dayton_39['value'], color='b',label='Dayton')\n",
    "plt.plot(usa_sssm_comb['date'], usa_sssm_comb['value'], color='r', label='USA')\n",
    "plt.title('Dayton vs USA median price (Smooth data)')\n",
    "plt.legend()\n",
    "plt.show()"
   ]
  },
  {
   "cell_type": "code",
   "execution_count": null,
   "id": "1e9d454b",
   "metadata": {},
   "outputs": [],
   "source": [
    "# plotting dayton vs USA smooth\n",
    "dayton_39 = dayton_39.sort_values(by='date')\n",
    "usa_sssm_comb= usa_sssm_comb.sort_values(by='date')\n",
    "plt.plot(dayton_39['date'], dayton_39['value'], color='b',label='Dayton')\n",
    "plt.plot(usa_sssm_comb['date'], usa_sssm_comb['value'], color='r', label='USA')\n",
    "plt.title('Dayton vs USA median price (Smooth data)')\n",
    "plt.legend()\n",
    "plt.show()"
   ]
  },
  {
   "cell_type": "markdown",
   "id": "2f0b8dab",
   "metadata": {},
   "source": [
    "## Finding on Smooth vs Raw data sets  \n",
    "- The raw data has more spikes compared to the smooth data (thus the name 'smooth')\n",
    "- As expected the correlation also dropped slightly (0.95 for smooth to 0.93 for raw)"
   ]
  },
  {
   "cell_type": "code",
   "execution_count": null,
   "id": "d7ad04d7",
   "metadata": {},
   "outputs": [],
   "source": [
    "# wrangling data for scatter plot\n",
    "\n",
    "# getting the listing for Dayton, OH\n",
    "dayton_inventory = issm[issm['region_id'] == 394521]\n",
    "len(dayton_inventory.sort_values(by='date'))"
   ]
  },
  {
   "cell_type": "code",
   "execution_count": null,
   "id": "07b16e9d",
   "metadata": {
    "scrolled": true
   },
   "outputs": [],
   "source": [
    "# getting the listing (raw) for Dayton, OH\n",
    "dayton_inventory_r = irsm[irsm['region_id'] == 394521]\n",
    "len(dayton_inventory_r.sort_values(by='date'))"
   ]
  },
  {
   "cell_type": "code",
   "execution_count": null,
   "id": "945e639c",
   "metadata": {},
   "outputs": [],
   "source": [
    "# combining price and listing\n",
    "dayton_sssm_issm = pd.merge(dayton_39, dayton_inventory, on='date',suffixes=['_price','_listing'])\n",
    "len(dayton_sssm_issm)"
   ]
  },
  {
   "cell_type": "code",
   "execution_count": null,
   "id": "213ab5c1",
   "metadata": {},
   "outputs": [],
   "source": [
    "# combining price and listing (raw)\n",
    "dayton_srsm_irsm = pd.merge(dayton_39r, dayton_inventory_r, on='date',suffixes=['_price','_listing'])\n",
    "len(dayton_srsm_irsm)"
   ]
  },
  {
   "cell_type": "code",
   "execution_count": null,
   "id": "a16d6a71",
   "metadata": {},
   "outputs": [],
   "source": [
    "# extract columns for scatter plot\n",
    "dayton_sssm_issm_sc_df= dayton_sssm_issm[['date','value_price','value_listing']]\n",
    "dayton_sssm_issm_sc_df.head()"
   ]
  },
  {
   "cell_type": "code",
   "execution_count": null,
   "id": "aeb0c09c",
   "metadata": {},
   "outputs": [],
   "source": [
    "# extract columns for scatter plot\n",
    "dayton_srsm_irsm_sc_df= dayton_srsm_irsm[['date','value_price','value_listing']]\n",
    "dayton_srsm_irsm_sc_df.head()"
   ]
  },
  {
   "cell_type": "code",
   "execution_count": null,
   "id": "441cc334",
   "metadata": {},
   "outputs": [],
   "source": [
    "# get the linear regression parameters smooth data\n",
    "(slope, intercept, rvalue, pval, stderr) = stats.linregress(dayton_sssm_issm_sc_df['value_listing'],\\\n",
    "                                                            dayton_sssm_issm_sc_df['value_price'])\n",
    "rvalue"
   ]
  },
  {
   "cell_type": "code",
   "execution_count": null,
   "id": "4f1e03dd",
   "metadata": {},
   "outputs": [],
   "source": [
    "# plot the scatter plot and regression line with smooth data\n",
    "dayton_sssm_issm_sc_df.plot(kind='scatter',x='value_listing', y='value_price', title='house price vs the number of listing (smooth data)',\\\n",
    "                            ylabel='median house price', xlabel = 'number of listing')\n",
    "regr_yval = dayton_sssm_issm_sc_df['value_listing']*slope + intercept\n",
    "plt.plot(dayton_sssm_issm_sc_df['value_listing'], regr_yval, color='r')\n",
    "print(f'r squared value is {rvalue**2:.5f}')"
   ]
  },
  {
   "cell_type": "code",
   "execution_count": null,
   "id": "43002678",
   "metadata": {},
   "outputs": [],
   "source": [
    "# linear regression for raw\n",
    "(slope_r, intercept_r, rvalue_r, pval_r, stderr_r) = stats.linregress(dayton_srsm_irsm_sc_df['value_listing'],\\\n",
    "                                                            dayton_srsm_irsm_sc_df['value_price'])\n",
    "rvalue_r"
   ]
  },
  {
   "cell_type": "code",
   "execution_count": null,
   "id": "74a361f1",
   "metadata": {},
   "outputs": [],
   "source": [
    "# plot the scatter plot and regression line for raw\n",
    "dayton_srsm_irsm_sc_df.plot(kind='scatter',x='value_listing', y='value_price', title='house price vs the number of listing (raw)',\\\n",
    "                           ylabel='median house price', xlabel='number of listing')\n",
    "regr_yval_r = dayton_srsm_irsm_sc_df['value_listing']*slope_r + intercept_r\n",
    "plt.plot(dayton_srsm_irsm_sc_df['value_listing'], regr_yval_r, color='r')\n",
    "print(f'r squared value is {rvalue_r**2:.5f}')"
   ]
  },
  {
   "cell_type": "markdown",
   "id": "5f3eeda5",
   "metadata": {},
   "source": [
    "## Finding on linear regression for smooth vs raw\n",
    "- From the graph we can we that there is generally a negative correlation between the house price and number of listing. This makes sense from a supply-demand perspective. As the more supply (listing) there is, the lower the price will be given the same demand. The r-squared value is significant, meaning the regression model is quite reliable.  \n",
    "    - Comparing the smooth to raw, the smooth data has higher r-squred value (0.43 vs 0.26), meaning the linear regression model using smoothed data is more predictable, because the data seems to have been 'compacted' during the smoothing process as we can see the data points are closer together to the regression line in the smooth dataset.\n"
   ]
  },
  {
   "cell_type": "code",
   "execution_count": null,
   "id": "02169e64",
   "metadata": {},
   "outputs": [],
   "source": [
    "# Display the location of New York, Killeen and Davenport on a map, with median price as size of the dot\n",
    "# NY 40.7128° N, 74.0060° W (40.7128, -74.0060)\n",
    "# Killeen, TX 31.1171° N, 97.7278° W (31.1171, -97.7278)\n",
    "# Davenport, IA 41.5236° N, 90.5776° W (41.5236, -90.5776)\n",
    "data ={'City': ['New York, NY', \"Killeen, TX\", \"Davenport, IA\"],\n",
    "      'Lat': [40.7128, 31.1171, 41.5236 ],\n",
    "      'Lng': [-74.0060, -97.7278, -90.5776],\n",
    "      'Price':[ ny_r.loc[min(ny_r.index), 'value'], killeen_r.loc[min(killeen_r.index), 'value'], \\\n",
    "               davenport_r.loc[min(davenport_r.index), 'value'] ]\n",
    "               }\n",
    "city_df = pd.DataFrame(data)\n",
    "city_df\n"
   ]
  },
  {
   "cell_type": "code",
   "execution_count": null,
   "id": "d57f4191",
   "metadata": {},
   "outputs": [],
   "source": [
    "%%capture --no-display\n",
    "usa_extent = (-130, 24, -64, 50)\n",
    "map_pl = city_df.hvplot.points(\"Lng\", \"Lat\", geo=True, tiles=\"OSM\", size=\"Price\", scale=0.05, color= \"City\", frame_height=550, \\\n",
    "                              frame_width=750, #x_range=usa_extent[0:2], y_range=usa_extent[2:]\n",
    "                              xlim=(-127, -64), ylim=(35,40)\n",
    "                              )\n",
    "map_pl"
   ]
  },
  {
   "cell_type": "markdown",
   "id": "9c1761ef",
   "metadata": {},
   "source": [
    "# Explanation  \n",
    "  The locations of the cities that we have chosen as the representation of the 3 city sizes (big, medium, small). The dot size indicates the relative median house price in each city."
   ]
  },
  {
   "cell_type": "code",
   "execution_count": null,
   "id": "4b21c989",
   "metadata": {},
   "outputs": [],
   "source": [
    "# plotting big city (NY), Medium city (Killeen, TX), small city (Davenport) vs USA for raw\n",
    "# source: https://en.wikipedia.org/wiki/List_of_United_States_cities_by_population\n",
    "\n",
    "#show background for before and after covid in colors.\n",
    "ny_r = ny_r.sort_values(by='date')\n",
    "killeen_r =killeen_r.sort_values(by='date')\n",
    "usa_srsm_comb = usa_srsm_comb.sort_values(by='date')\n",
    "\n",
    "fig, ax = plt.subplots()\n",
    "highlight_date = pd.to_datetime('2020-01-01')\n",
    "\n",
    "ax.plot(ny_r['date'], ny_r['value'], color='b',label='New York, NY')\n",
    "ax.plot(killeen_r['date'], killeen_r['value'], color='g',label='Killeen, TX')\n",
    "ax.plot(davenport_r['date'], davenport_r['value'], color='y',label='Davenport, IA')\n",
    "ax.plot(usa_srsm_comb['date'], usa_srsm_comb['value'], color='r', label='USA')\n",
    "\n",
    "# highlight background before covid\n",
    "ax.axvspan(np.min(ny_r['date']), highlight_date, alpha=0.2, color='lightblue')\n",
    "# highlight background after covid\n",
    "ax.axvspan(highlight_date, np.max(ny_r['date']), alpha=0.2, color='orange')\n",
    "\n",
    "ax.set_title('Different-sized cities (based on Population) vs USA median house price (raw data)')\n",
    "ax.set_ylabel('median house price')\n",
    "ax.legend()\n",
    "ax.grid(True)\n",
    "plt.show()"
   ]
  },
  {
   "cell_type": "markdown",
   "id": "a66de2b0",
   "metadata": {},
   "source": [
    "## Finding on different sized cities compared to national house price trend\n",
    "- As expected the big city has the highest price, followed by medium and finally the small city.\n",
    "- One would expect the big city to have a higher correlation with national price than the smaller ones, because they have a bigger weight when compared to the smaller cities in the calculation of the national price, but it turned out that Killeen (a medium city) has the highest correlation (0.982) vs big city New York's 0.957 and small city Davenport's 0.911. This could be because the national price is a median price which is closest to the medium sized city's price (50th percentile price). As it can be reasonably assumed that when ranked by price, the bigger the city the higher its median price.\n",
    "- House prices dropped across the country in 2008 because of the Great Financial Crisis (GFC), during which the big city price was impacted the most, while the smaller cities were affected the least. It took NY ten years (2018) to recover the drop in price during the GFC.\n",
    "- Similar to Australia, the house prices in the US continue to price even more markedly during the pandemic (orange part of the graph)\n"
   ]
  },
  {
   "cell_type": "code",
   "execution_count": null,
   "id": "043d8a39",
   "metadata": {},
   "outputs": [],
   "source": [
    "# calculating correlations with national price\n",
    "us_dayton = pd.merge( dayton_39[['date','value']], usa_sssm_comb[['date', 'value']], on='date',suffixes=['_dayton', '_us'])\n",
    "us_dayton_corr = us_dayton['value_dayton'].corr(us_dayton['value_us'])\n",
    "us_dayton_corr\n"
   ]
  },
  {
   "cell_type": "code",
   "execution_count": null,
   "id": "59ab752b",
   "metadata": {},
   "outputs": [],
   "source": [
    "us_dayton_r = pd.merge( dayton_39r[['date','value']], usa_srsm_comb[['date', 'value']], on='date',suffixes=['_dayton', '_us'])\n",
    "us_dayton_corr_r = us_dayton_r['value_dayton'].corr(us_dayton_r['value_us'])\n",
    "us_dayton_corr_r"
   ]
  },
  {
   "cell_type": "code",
   "execution_count": null,
   "id": "336665fb",
   "metadata": {},
   "outputs": [],
   "source": [
    "us_ny_r = pd.merge( ny_r[['date','value']], usa_srsm_comb[['date', 'value']], on='date',suffixes=['_ny', '_us'])\n",
    "us_ny_corr_r = us_ny_r['value_ny'].corr(us_ny_r['value_us'])\n",
    "us_ny_corr_r"
   ]
  },
  {
   "cell_type": "code",
   "execution_count": null,
   "id": "75027ca5",
   "metadata": {},
   "outputs": [],
   "source": [
    "us_ki_r = pd.merge( killeen_r[['date','value']], usa_srsm_comb[['date', 'value']], on='date',suffixes=['_ki', '_us'])\n",
    "us_ki_corr_r = us_ki_r['value_ki'].corr(us_ki_r['value_us'])\n",
    "us_ki_corr_r"
   ]
  },
  {
   "cell_type": "code",
   "execution_count": null,
   "id": "e9ac4a2a",
   "metadata": {},
   "outputs": [],
   "source": [
    "us_dp_r = pd.merge( davenport_r[['date','value']], usa_srsm_comb[['date', 'value']], on='date',suffixes=['_dp', '_us'])\n",
    "us_dp_corr_r = us_dp_r['value_dp'].corr(us_dp_r['value_us'])\n",
    "us_dp_corr_r"
   ]
  },
  {
   "cell_type": "code",
   "execution_count": null,
   "id": "87c247b9",
   "metadata": {},
   "outputs": [],
   "source": [
    "# bar chart for correlation\n",
    "data=[us_ny_corr_r, us_ki_corr_r, us_dp_corr_r]\n",
    "labels= ['New York (big)', 'Killeeen (medium)', 'Davenport (small)']\n",
    "plt.bar(labels, data)\n",
    "plt.ylim(.9, 1)\n",
    "plt.title(\"correlations of city price with national median price\")\n",
    "plt.ylabel('Correlation value')\n",
    "for i, v in enumerate(data):\n",
    "    plt.text(i, v, str(f\"{v:.3f}\"), ha='center', va='bottom')\n",
    "plt.show()"
   ]
  },
  {
   "cell_type": "markdown",
   "id": "659c22b0",
   "metadata": {},
   "source": [
    "# Covid time analysis"
   ]
  },
  {
   "cell_type": "code",
   "execution_count": null,
   "id": "7a20c228",
   "metadata": {},
   "outputs": [],
   "source": [
    "dayton_covidtime = dayton[(dayton['date'] >= '1-1-2019') & (dayton['date']<='31-12-2023')]\n",
    "dayton_covidtime"
   ]
  },
  {
   "cell_type": "code",
   "execution_count": null,
   "id": "3654f17d",
   "metadata": {},
   "outputs": [],
   "source": [
    "# creating a new column to identify if the date is before or during covid\n",
    "dayton_covidtime = dayton_covidtime.loc[ dayton_covidtime['region_id'] ==394521, :]\n",
    "# dayton_covidtime = dayton_covidtime[ dayton_covidtime['region_id'] ==394521]\n",
    "dayton_covidtime['covid']='during'\n",
    "dayton_covidtime.head()"
   ]
  },
  {
   "cell_type": "code",
   "execution_count": null,
   "id": "e1ba3bd8",
   "metadata": {},
   "outputs": [],
   "source": [
    "dayton_b4covid = dayton[(dayton['date'] >= '1-1-2014') & (dayton['date']<='31-12-2018')]\n",
    "dayton_b4covid.head()"
   ]
  },
  {
   "cell_type": "code",
   "execution_count": null,
   "id": "ef919f99",
   "metadata": {},
   "outputs": [],
   "source": [
    "dayton_b4covid = dayton_b4covid[dayton_b4covid['region_id']==394521]\n",
    "# creating a new column to identify if the date is before or during covid\n",
    "dayton_b4covid['covid'] = \"before\"\n",
    "dayton_b4covid.head()"
   ]
  },
  {
   "cell_type": "code",
   "execution_count": null,
   "id": "f6186a6e",
   "metadata": {},
   "outputs": [],
   "source": [
    "# plot the before and after covid dayton side by side\n",
    "# concat the data vertically.\n",
    "dayton_b4_during_covid= pd.concat([dayton_b4covid[['date','value','covid']], dayton_covidtime[['date','value','covid']]],axis=0)\n",
    "dayton_b4_during_covid"
   ]
  },
  {
   "cell_type": "code",
   "execution_count": null,
   "id": "9999f66a",
   "metadata": {},
   "outputs": [],
   "source": [
    "# using seaborn to plot a line graph with different colors for before and during covid.\n",
    "sns.lineplot(data = dayton_b4_during_covid, x='date', y='value', hue='covid')\n",
    "plt.legend(title='covid')\n",
    "plt.show()"
   ]
  },
  {
   "cell_type": "markdown",
   "id": "9bbdd5b9",
   "metadata": {},
   "source": [
    "## Analysis of house prices before and during covid  \n",
    "  - It appears that although the pandemic does not affect the cycle of the house price much (still around 1 year), it does amaplify the magnitude of the cycle (there is a bigger difference between the trough and crest of the cycle).  \n",
    "  - It also appears during covid the price seems less stable as there is more volatility as seen from multiple mini-cycles towards the beginning of 2022."
   ]
  },
  {
   "cell_type": "code",
   "execution_count": null,
   "id": "3de874d4",
   "metadata": {},
   "outputs": [],
   "source": [
    "sssm_subset = sssm_combine.sample(10000)\n",
    "sssm_subset"
   ]
  },
  {
   "cell_type": "code",
   "execution_count": null,
   "id": "d79cf382",
   "metadata": {},
   "outputs": [],
   "source": []
  },
  {
   "cell_type": "code",
   "execution_count": null,
   "id": "4bd6cc6d",
   "metadata": {},
   "outputs": [],
   "source": []
  },
  {
   "cell_type": "code",
   "execution_count": null,
   "id": "e567b57f",
   "metadata": {},
   "outputs": [],
   "source": []
  }
 ],
 "metadata": {
  "kernelspec": {
   "display_name": "Python 3",
   "language": "python",
   "name": "python3"
  },
  "language_info": {
   "codemirror_mode": {
    "name": "ipython",
    "version": 3
   },
   "file_extension": ".py",
   "mimetype": "text/x-python",
   "name": "python",
   "nbconvert_exporter": "python",
   "pygments_lexer": "ipython3",
   "version": "3.11.5"
  }
 },
 "nbformat": 4,
 "nbformat_minor": 5
}
